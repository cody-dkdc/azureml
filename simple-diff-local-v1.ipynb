{
 "cells": [
  {
   "cell_type": "markdown",
   "metadata": {},
   "source": [
    "# Imports"
   ]
  },
  {
   "cell_type": "code",
   "execution_count": 42,
   "metadata": {},
   "outputs": [],
   "source": [
    "import os\n",
    "import sys\n",
    "import pandas as pd\n",
    "import numpy as np\n",
    "import matplotlib.pyplot as plt\n",
    "\n",
    "import azureml.core\n",
    "\n",
    "from datetime import datetime, timedelta\n",
    "from azureml.core import Dataset\n",
    "from azureml.opendatasets import NoaaIsdWeather"
   ]
  },
  {
   "cell_type": "markdown",
   "metadata": {},
   "source": [
    "## Declare variables, read in NOAA ISD data, write to CSV\n",
    "Using January 2019 weather data as the baseline and June 2019 as the test. Write the data to local csv so that they can be used in Datasets. If you've already registered Datasets with the workspace, you can replace them in the following cells."
   ]
  },
  {
   "cell_type": "code",
   "execution_count": 43,
   "metadata": {},
   "outputs": [
    {
     "name": "stdout",
     "output_type": "stream",
     "text": [
      "ActivityStarted, to_pandas_dataframe\n",
      "ActivityStarted, to_pandas_dataframe_in_worker\n",
      "Target paths: ['/year=2019/month=1/']\n",
      "Looking for parquet files...\n",
      "Reading them into Pandas dataframe...\n",
      "Reading ISDWeather/year=2019/month=1/part-00043-tid-7785455726218446485-a0ae6467-7b8d-4da5-b22e-d1f6db3024ed-1422527.c000.snappy.parquet under container isdweatherdatacontainer\n",
      "Done.\n",
      "ActivityCompleted: Activity=to_pandas_dataframe_in_worker, HowEnded=Success, Duration=11097.02 [ms]\n",
      "ActivityCompleted: Activity=to_pandas_dataframe, HowEnded=Success, Duration=11109.3 [ms]\n",
      "ActivityStarted, to_pandas_dataframe\n",
      "ActivityStarted, to_pandas_dataframe_in_worker\n",
      "Target paths: ['/year=2019/month=7/']\n",
      "Looking for parquet files...\n",
      "Reading them into Pandas dataframe...\n",
      "Reading ISDWeather/year=2019/month=7/part-00107-tid-7785455726218446485-a0ae6467-7b8d-4da5-b22e-d1f6db3024ed-1422591.c000.snappy.parquet under container isdweatherdatacontainer\n",
      "Done.\n",
      "ActivityCompleted: Activity=to_pandas_dataframe_in_worker, HowEnded=Success, Duration=7410.54 [ms]\n",
      "ActivityCompleted: Activity=to_pandas_dataframe, HowEnded=Success, Duration=7421.18 [ms]\n",
      "writing baseline dataframe to csv...\n",
      "Done.\n",
      "writing test dataframe to csv...\n",
      "Done.\n"
     ]
    }
   ],
   "source": [
    "# baseline dataset start and end\n",
    "BASELINE_START = datetime(2019, 1, 1)\n",
    "BASELINE_END   = datetime(2019, 1, 8)\n",
    "\n",
    "# test dataset start and end\n",
    "TEST_START     = datetime(2019, 7, 1)\n",
    "TEST_END       = datetime(2019, 7, 8)\n",
    "\n",
    "# names for writing datasets\n",
    "local_folder   = 'simple-diff'\n",
    "baseline_file  = 'baseline.csv'\n",
    "test_file      = 'test.csv'\n",
    "\n",
    "# make local dir \n",
    "os.makedirs(local_folder, exist_ok=True)\n",
    "\n",
    "# get baseline dataset\n",
    "isd_b          = NoaaIsdWeather(BASELINE_START, BASELINE_END)\n",
    "baseline_df    = isd_b.to_pandas_dataframe()\n",
    "\n",
    "# get test dataset \n",
    "isd_t          = NoaaIsdWeather(TEST_START, TEST_END)\n",
    "test_df        = isd_t.to_pandas_dataframe()\n",
    "\n",
    "# write baseline dataframe to local csv\n",
    "print('writing baseline dataframe to csv...')\n",
    "baseline_df.to_csv(local_folder + \"/\" + baseline_file)\n",
    "print('Done.')\n",
    "    \n",
    "# write test dataframe to local csv\n",
    "print('writing test dataframe to csv...')\n",
    "test_df.to_csv(local_folder + \"/\" + test_file)\n",
    "print('Done.')"
   ]
  },
  {
   "cell_type": "code",
   "execution_count": 44,
   "metadata": {},
   "outputs": [],
   "source": [
    "#baseline_df.head()"
   ]
  },
  {
   "cell_type": "code",
   "execution_count": 45,
   "metadata": {},
   "outputs": [],
   "source": [
    "#test_df.head()"
   ]
  },
  {
   "cell_type": "markdown",
   "metadata": {},
   "source": [
    "# Create Azure ML Datasets \n",
    "\n",
    "and compute the profile of the baseline and test datasets "
   ]
  },
  {
   "cell_type": "code",
   "execution_count": 46,
   "metadata": {},
   "outputs": [],
   "source": [
    "# create Azure ML dataset from local file\n",
    "baseline = Dataset.auto_read_files(local_folder + \"/\" + baseline_file, include_path=True)\n",
    "\n",
    "# The baseline data is not filtered by feature columns list, thus all retrieved data columns will be listed below.\n",
    "# You'll see \"Column1\" in the output, which is a default name added when the original column is not available.\n",
    "#baseline.get_profile()"
   ]
  },
  {
   "cell_type": "code",
   "execution_count": 47,
   "metadata": {},
   "outputs": [],
   "source": [
    "# create Azure ML dataset from local file \n",
    "test = Dataset.auto_read_files(local_folder + \"/\" + test_file, include_path=True)\n",
    "\n",
    "# The baseline data is not filtered by feature columns list, thus all retrieved data columns will be listed below.\n",
    "# You'll see \"Column1\" in the output, which is a default name added when the original column is not available.\n",
    "#test.get_profile()"
   ]
  },
  {
   "cell_type": "code",
   "execution_count": 48,
   "metadata": {},
   "outputs": [
    {
     "name": "stderr",
     "output_type": "stream",
     "text": [
      "/home/azureuser/.local/lib/python3.6/site-packages/azureml/data/_dataset_diff.py:468: SettingWithCopyWarning: \n",
      "A value is trying to be set on a copy of a slice from a DataFrame.\n",
      "Try using .loc[row_indexer,col_indexer] = value instead\n",
      "\n",
      "See the caveats in the documentation: http://pandas.pydata.org/pandas-docs/stable/indexing.html#indexing-view-versus-copy\n",
      "  base[c] = base[c].fillna(value=\"__null__\")\n",
      "/home/azureuser/.local/lib/python3.6/site-packages/azureml/data/_dataset_diff.py:469: SettingWithCopyWarning: \n",
      "A value is trying to be set on a copy of a slice from a DataFrame.\n",
      "Try using .loc[row_indexer,col_indexer] = value instead\n",
      "\n",
      "See the caveats in the documentation: http://pandas.pydata.org/pandas-docs/stable/indexing.html#indexing-view-versus-copy\n",
      "  diff[c] = diff[c].fillna(value=\"__null__\")\n",
      "/home/azureuser/.local/lib/python3.6/site-packages/azureml/data/_dataset_diff.py:472: SettingWithCopyWarning: \n",
      "A value is trying to be set on a copy of a slice from a DataFrame.\n",
      "Try using .loc[row_indexer,col_indexer] = value instead\n",
      "\n",
      "See the caveats in the documentation: http://pandas.pydata.org/pandas-docs/stable/indexing.html#indexing-view-versus-copy\n",
      "  base[c] = base[c].astype(cat_type)\n",
      "/home/azureuser/.local/lib/python3.6/site-packages/azureml/data/_dataset_diff.py:473: SettingWithCopyWarning: \n",
      "A value is trying to be set on a copy of a slice from a DataFrame.\n",
      "Try using .loc[row_indexer,col_indexer] = value instead\n",
      "\n",
      "See the caveats in the documentation: http://pandas.pydata.org/pandas-docs/stable/indexing.html#indexing-view-versus-copy\n",
      "  diff[c] = diff[c].astype(cat_type)\n",
      "/data/anaconda/envs/py36/lib/python3.6/site-packages/pandas/core/frame.py:3140: SettingWithCopyWarning: \n",
      "A value is trying to be set on a copy of a slice from a DataFrame.\n",
      "Try using .loc[row_indexer,col_indexer] = value instead\n",
      "\n",
      "See the caveats in the documentation: http://pandas.pydata.org/pandas-docs/stable/indexing.html#indexing-view-versus-copy\n",
      "  self[k1] = value[k2]\n"
     ]
    }
   ],
   "source": [
    "# exclude unneccesary (Path, version, year, day) and columns that clearly drift (datetime)\n",
    "columns = ['usaf', 'wban', 'latitude', 'longitude', 'elevation', 'windAngle', 'windSpeed', 'temperature', 'seaLvlPressure', 'cloudCoverage', 'presentWeatherIndicator', 'pastWeatherIndicator', 'precipTime', 'precipDepth', 'snowDepth', 'stationName', 'countryOrRegion', 'p_k']\n",
    "\n",
    "diff_action = baseline.diff(rhs_dataset=baseline, columns=columns)\n",
    "diff_action.wait_for_completion()\n",
    "\n",
    "result = diff_action.get_result()\n",
    "#result"
   ]
  },
  {
   "cell_type": "code",
   "execution_count": 49,
   "metadata": {},
   "outputs": [
    {
     "name": "stdout",
     "output_type": "stream",
     "text": [
      "Magnitude of drift: 0.139/1.0\n"
     ]
    }
   ],
   "source": [
    "# overall measure of difference between baseline and test and contribution by feature\n",
    "# 0: no difference\n",
    "# 1: completely different\n",
    "# calculated with ML two-sample test and output as 'drift coefficient'\n",
    "\n",
    "for measurement in result:\n",
    "    if measurement.name == 'datadrift_coefficient':\n",
    "        print('Magnitude of drift: {}/1.0'.format(round(measurement.value, 3)))\n",
    "        \n",
    "feature_contrib_x = []\n",
    "feature_contrib_y = []\n",
    "\n",
    "# additionally from ML two-sample test, measure contribution of each feature to the overall magnitude \n",
    "\n",
    "for measurement in result:\n",
    "    if measurement.name == 'datadrift_contribution':\n",
    "        feature_contrib_x.append(measurement.extended_properties['column_name'])\n",
    "        feature_contrib_y.append(measurement.value)"
   ]
  },
  {
   "cell_type": "code",
   "execution_count": 50,
   "metadata": {},
   "outputs": [
    {
     "data": {
      "image/png": "[encoded data removed]",
      "text/plain": [
       "<Figure size 1152x1152 with 1 Axes>"
      ]
     },
     "metadata": {
      "needs_background": "dark"
     },
     "output_type": "display_data"
    }
   ],
   "source": [
    "# plot contribution of feature to drift magnitude \n",
    "\n",
    "%matplotlib inline\n",
    "\n",
    "fig = plt.figure(figsize=(16, 16))\n",
    "\n",
    "## if using dark mode, uncomment this\n",
    "#plt.style.use(['dark_background'])\n",
    "\n",
    "plt.barh(feature_contrib_x, feature_contrib_y, color='b')\n",
    "plt.yticks(feature_contrib_x)\n",
    "plt.title('Contribution to Magnitude of Drift by Feature')\n",
    "plt.xlabel('Contribution')\n",
    "plt.show()"
   ]
  },
  {
   "cell_type": "code",
   "execution_count": 51,
   "metadata": {},
   "outputs": [
    {
     "name": "stdout",
     "output_type": "stream",
     "text": [
      "percentage_difference_min : 0.0\n",
      "difference_min : 0.0\n",
      "percentage_difference_max : 0.0\n",
      "difference_max : 0.0\n",
      "percentage_difference_median : 0.0\n",
      "difference_median : 0.0\n",
      "percentage_difference_mean : 0.0\n",
      "difference_mean : 0.0\n",
      "percentage_difference_variance : 0.0\n",
      "difference_variance : 0.0\n",
      "percentage_difference_standard_deviation : 0.0\n",
      "difference_standard_deviation : 0.0\n",
      "percentage_difference_skewness : 0.0\n",
      "difference_skewness : 0.0\n",
      "percentage_difference_kurtosis : 0.0\n",
      "difference_kurtosis : 0.0\n",
      "percentage_difference_percentile_0.001 : 0.0\n",
      "difference_percentile_0.001 : 0.0\n",
      "percentage_difference_percentile_0.01 : 0.0\n",
      "difference_percentile_0.01 : 0.0\n",
      "percentage_difference_percentile_0.05 : 0.0\n",
      "difference_percentile_0.05 : 0.0\n",
      "percentage_difference_percentile_0.25 : 0.0\n",
      "difference_percentile_0.25 : 0.0\n",
      "percentage_difference_percentile_0.5 : 0.0\n",
      "difference_percentile_0.5 : 0.0\n",
      "percentage_difference_percentile_0.75 : 0.0\n",
      "difference_percentile_0.75 : 0.0\n",
      "percentage_difference_percentile_0.95 : 0.0\n",
      "difference_percentile_0.95 : 0.0\n",
      "percentage_difference_percentile_0.99 : 0.0\n",
      "difference_percentile_0.99 : 0.0\n",
      "percentage_difference_percentile_0.999 : 0.0\n",
      "difference_percentile_0.999 : 0.0\n",
      "percentage_difference_row_count : 0.0\n",
      "difference_row_count : 0.0\n",
      "percentage_difference_missing_count : None\n",
      "difference_missing_count : 0.0\n",
      "wasserstein_distance : 0.0\n",
      "energy_distance : 0.0\n"
     ]
    }
   ],
   "source": [
    "# drill down into diff measurements and statistical distances for a given column\n",
    "column_name = 'latitude'\n",
    "\n",
    "for measurement in result:\n",
    "    if measurement.extended_properties['metric_category'] in ('profile_diff', 'statistical_distance') and measurement.extended_properties['column_name'] == column_name:\n",
    "        print('{} : {}'.format(measurement.name, measurement.value))"
   ]
  },
  {
   "cell_type": "markdown",
   "metadata": {},
   "source": [
    "# Predefine Methods For Result Processing\n",
    "\n",
    "## Parse and Present Datasets' Diff Results\n",
    "\n",
    "<font size=2>Each diff result is a list of \"DiffMetric\" objects. Typically each objec present a detailed measurement output for a specific column.\n",
    "<br><br>Below is an example of \"DiffMetric\" object:</font>\n",
    "<font face=\"monospace\" size=1>\n",
    "<br>&nbsp;&nbsp;&nbsp;&nbsp;{&nbsp;&nbsp;\n",
    "<br>&nbsp;&nbsp;&nbsp;&nbsp;&nbsp;&nbsp;&nbsp;'name':'percentage_difference_median',&nbsp;&nbsp;&nbsp;&nbsp;&nbsp;&nbsp;&nbsp;&nbsp;&nbsp;&nbsp;&nbsp;&nbsp;&nbsp;&nbsp;&nbsp;&nbsp;&nbsp;&nbsp;&nbsp;&nbsp;&nbsp;&nbsp;&nbsp;&nbsp;-->&nbsp;measurement&nbsp;name\n",
    "<br>&nbsp;&nbsp;&nbsp;&nbsp;&nbsp;&nbsp;&nbsp;'value':0.01270670472603889,&nbsp;&nbsp;&nbsp;&nbsp;&nbsp;&nbsp;&nbsp;&nbsp;&nbsp;&nbsp;&nbsp;&nbsp;&nbsp;&nbsp;&nbsp;&nbsp;&nbsp;&nbsp;&nbsp;&nbsp;&nbsp;&nbsp;&nbsp;&nbsp;&nbsp;&nbsp;&nbsp;&nbsp;&nbsp;&nbsp;&nbsp;&nbsp;&nbsp;&nbsp;-->&nbsp;the result value a number to indicate how big the diff is for current measurement.\n",
    "<br>&nbsp;&nbsp;&nbsp;&nbsp;&nbsp;&nbsp;&nbsp;'extended_properties':{&nbsp;&nbsp;\n",
    "</font><font face=\"monospace\" size=1 color=LightSteelBlue><br>&nbsp;&nbsp;&nbsp;&nbsp;&nbsp;&nbsp;&nbsp;&nbsp;&nbsp;&nbsp;'action_id':'3d3da05d-0871-4cc9-93cb-f43859aae13b',&nbsp;&nbsp;&nbsp;&nbsp;&nbsp;&nbsp;&nbsp;&nbsp;-->&nbsp;(remote&nbsp;calculation&nbsp;only)&nbsp;action&nbsp;id\n",
    "<br>&nbsp;&nbsp;&nbsp;&nbsp;&nbsp;&nbsp;&nbsp;&nbsp;&nbsp;&nbsp;'from_dataset_id':'12edc566-8803-4e0f-ba91-c2ee05eeddee',&nbsp;&nbsp;-->&nbsp;(remote&nbsp;calculation&nbsp;only)&nbsp;baseline&nbsp;dataset\n",
    "<br>&nbsp;&nbsp;&nbsp;&nbsp;&nbsp;&nbsp;&nbsp;&nbsp;&nbsp;&nbsp;'from_dataset_version':'1',&nbsp;&nbsp;&nbsp;&nbsp;&nbsp;&nbsp;&nbsp;&nbsp;&nbsp;&nbsp;&nbsp;&nbsp;&nbsp;&nbsp;&nbsp;&nbsp;&nbsp;&nbsp;&nbsp;&nbsp;&nbsp;&nbsp;&nbsp;&nbsp;&nbsp;&nbsp;&nbsp;&nbsp;&nbsp;&nbsp;&nbsp;&nbsp;-->&nbsp;(remote&nbsp;calculation&nbsp;only)&nbsp;baseline&nbsp;version\n",
    "<br>&nbsp;&nbsp;&nbsp;&nbsp;&nbsp;&nbsp;&nbsp;&nbsp;&nbsp;&nbsp;'to_dataset_id':'9b85c9ba-50c2-4227-a9bc-91dee4a18228',&nbsp;&nbsp;&nbsp;&nbsp;-->&nbsp;(remote&nbsp;calculation&nbsp;only)&nbsp;target&nbsp;dataset\n",
    "<br>&nbsp;&nbsp;&nbsp;&nbsp;&nbsp;&nbsp;&nbsp;&nbsp;&nbsp;&nbsp;'to_dataset_version':'1',&nbsp;&nbsp;&nbsp;&nbsp;&nbsp;&nbsp;&nbsp;&nbsp;&nbsp;&nbsp;&nbsp;&nbsp;&nbsp;&nbsp;&nbsp;&nbsp;&nbsp;&nbsp;&nbsp;&nbsp;&nbsp;&nbsp;&nbsp;&nbsp;&nbsp;&nbsp;&nbsp;&nbsp;&nbsp;&nbsp;&nbsp;&nbsp;&nbsp;&nbsp;-->&nbsp;(remote&nbsp;calculation&nbsp;only)&nbsp;target&nbsp;version\n",
    "</font><font face=\"monospace\" size=1><br>&nbsp;&nbsp;&nbsp;&nbsp;&nbsp;&nbsp;&nbsp;&nbsp;&nbsp;&nbsp;'column_name':'elevation',&nbsp;&nbsp;&nbsp;&nbsp;&nbsp;&nbsp;&nbsp;&nbsp;&nbsp;&nbsp;&nbsp;&nbsp;&nbsp;&nbsp;&nbsp;&nbsp;&nbsp;&nbsp;&nbsp;&nbsp;&nbsp;&nbsp;&nbsp;&nbsp;&nbsp;&nbsp;&nbsp;&nbsp;&nbsp;&nbsp;&nbsp;&nbsp;&nbsp;-->&nbsp;column&nbsp;name&nbsp;in&nbsp;dataset,&nbsp;<br>&nbsp;&nbsp;&nbsp;&nbsp;&nbsp;&nbsp;&nbsp;&nbsp;&nbsp;&nbsp;&nbsp;&nbsp;&nbsp;&nbsp;&nbsp;&nbsp;&nbsp;&nbsp;&nbsp;&nbsp;&nbsp;&nbsp;&nbsp;&nbsp;&nbsp;&nbsp;&nbsp;&nbsp;&nbsp;&nbsp;&nbsp;&nbsp;&nbsp;&nbsp;&nbsp;&nbsp;&nbsp;&nbsp;&nbsp;&nbsp;&nbsp;&nbsp;&nbsp;&nbsp;&nbsp;&nbsp;&nbsp;&nbsp;&nbsp;&nbsp;&nbsp;&nbsp;&nbsp;&nbsp;&nbsp;&nbsp;&nbsp;&nbsp;&nbsp;&nbsp;&nbsp;&nbsp;&nbsp;&nbsp;&nbsp;&nbsp;&nbsp;&nbsp;&nbsp;&nbsp;&nbsp;&nbsp;&nbsp;could&nbsp;be&nbsp;['name':'datadrift_coefficient']&nbsp;for&nbsp;dataset&nbsp;level&nbsp;diff\n",
    "<br>&nbsp;&nbsp;&nbsp;&nbsp;&nbsp;&nbsp;&nbsp;&nbsp;&nbsp;&nbsp;'metric_category':'profile_diff'&nbsp;&nbsp;&nbsp;&nbsp;&nbsp;&nbsp;&nbsp;&nbsp;&nbsp;&nbsp;&nbsp;&nbsp;&nbsp;&nbsp;&nbsp;&nbsp;&nbsp;&nbsp;&nbsp;&nbsp;&nbsp;&nbsp;&nbsp;&nbsp;&nbsp;&nbsp;&nbsp;-->&nbsp;category,&nbsp;could&nbsp;be&nbsp;:<br>&nbsp;&nbsp;&nbsp;&nbsp;&nbsp;&nbsp;&nbsp;&nbsp;&nbsp;&nbsp;&nbsp;&nbsp;&nbsp;&nbsp;&nbsp;&nbsp;&nbsp;&nbsp;&nbsp;&nbsp;&nbsp;&nbsp;&nbsp;&nbsp;&nbsp;&nbsp;&nbsp;&nbsp;&nbsp;&nbsp;&nbsp;&nbsp;&nbsp;&nbsp;&nbsp;&nbsp;&nbsp;&nbsp;&nbsp;&nbsp;&nbsp;&nbsp;&nbsp;&nbsp;&nbsp;&nbsp;&nbsp;&nbsp;&nbsp;&nbsp;&nbsp;&nbsp;&nbsp;&nbsp;&nbsp;&nbsp;&nbsp;&nbsp;&nbsp;&nbsp;&nbsp;&nbsp;&nbsp;&nbsp;&nbsp;&nbsp;&nbsp;&nbsp;&nbsp;&nbsp;&nbsp;&nbsp;&nbsp;&nbsp;&nbsp;&nbsp;&nbsp;dataset_drift (dataset level)<br>&nbsp;&nbsp;&nbsp;&nbsp;&nbsp;&nbsp;&nbsp;&nbsp;&nbsp;&nbsp;&nbsp;&nbsp;&nbsp;&nbsp;&nbsp;&nbsp;&nbsp;&nbsp;&nbsp;&nbsp;&nbsp;&nbsp;&nbsp;&nbsp;&nbsp;&nbsp;&nbsp;&nbsp;&nbsp;&nbsp;&nbsp;&nbsp;&nbsp;&nbsp;&nbsp;&nbsp;&nbsp;&nbsp;&nbsp;&nbsp;&nbsp;&nbsp;&nbsp;&nbsp;&nbsp;&nbsp;&nbsp;&nbsp;&nbsp;&nbsp;&nbsp;&nbsp;&nbsp;&nbsp;&nbsp;&nbsp;&nbsp;&nbsp;&nbsp;&nbsp;&nbsp;&nbsp;&nbsp;&nbsp;&nbsp;&nbsp;&nbsp;&nbsp;&nbsp;&nbsp;&nbsp;&nbsp;&nbsp;&nbsp;&nbsp;&nbsp;&nbsp;profile_diff (column level)<br>&nbsp;&nbsp;&nbsp;&nbsp;&nbsp;&nbsp;&nbsp;&nbsp;&nbsp;&nbsp;&nbsp;&nbsp;&nbsp;&nbsp;&nbsp;&nbsp;&nbsp;&nbsp;&nbsp;&nbsp;&nbsp;&nbsp;&nbsp;&nbsp;&nbsp;&nbsp;&nbsp;&nbsp;&nbsp;&nbsp;&nbsp;&nbsp;&nbsp;&nbsp;&nbsp;&nbsp;&nbsp;&nbsp;&nbsp;&nbsp;&nbsp;&nbsp;&nbsp;&nbsp;&nbsp;&nbsp;&nbsp;&nbsp;&nbsp;&nbsp;&nbsp;&nbsp;&nbsp;&nbsp;&nbsp;&nbsp;&nbsp;&nbsp;&nbsp;&nbsp;&nbsp;&nbsp;&nbsp;&nbsp;&nbsp;&nbsp;&nbsp;&nbsp;&nbsp;&nbsp;&nbsp;&nbsp;&nbsp;&nbsp;&nbsp;&nbsp;&nbsp;statistical_distance (column level)\n",
    "<br>&nbsp;&nbsp;&nbsp;&nbsp;&nbsp;&nbsp;&nbsp;}\n",
    "<br>&nbsp;&nbsp;&nbsp;&nbsp;}\n",
    "</font>"
   ]
  },
  {
   "cell_type": "code",
   "execution_count": null,
   "metadata": {},
   "outputs": [],
   "source": []
  },
  {
   "cell_type": "code",
   "execution_count": null,
   "metadata": {},
   "outputs": [],
   "source": []
  }
 ],
 "metadata": {
  "authors": [
   {
    "name": "davx"
   }
  ],
  "kernelspec": {
   "display_name": "Python [conda env:py36]",
   "language": "python",
   "name": "conda-env-py36-py"
  },
  "language_info": {
   "codemirror_mode": {
    "name": "ipython",
    "version": 3
   },
   "file_extension": ".py",
   "mimetype": "text/x-python",
   "name": "python",
   "nbconvert_exporter": "python",
   "pygments_lexer": "ipython3",
   "version": "3.6.8"
  },
  "notice": "Copyright (c) Microsoft Corporation. All rights reserved. Licensed under the MIT License."
 },
 "nbformat": 4,
 "nbformat_minor": 2
}
